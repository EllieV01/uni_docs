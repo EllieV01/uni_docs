{
  "nbformat": 4,
  "nbformat_minor": 0,
  "metadata": {
    "colab": {
      "provenance": [],
      "mount_file_id": "1gQLb7LrYNhhAsmrT1WbSG5EAAGjcKd8p",
      "authorship_tag": "ABX9TyNlrVmwQGYbE4xXIsfaIwny",
      "include_colab_link": true
    },
    "kernelspec": {
      "name": "python3",
      "display_name": "Python 3"
    },
    "language_info": {
      "name": "python"
    },
    "accelerator": "GPU",
    "gpuClass": "standard"
  },
  "cells": [
    {
      "cell_type": "markdown",
      "metadata": {
        "id": "view-in-github",
        "colab_type": "text"
      },
      "source": [
        "<a href=\"https://colab.research.google.com/github/EllieV01/uni_docs/blob/main/%D0%A0%D0%B0%D1%81%D0%BF%D0%BE%D0%B7%D0%BD%D0%B0%D0%B2%D0%B0%D0%BD%D0%B8%D0%B5_%D0%B1%D1%83%D0%BA%D0%B2.ipynb\" target=\"_parent\"><img src=\"https://colab.research.google.com/assets/colab-badge.svg\" alt=\"Open In Colab\"/></a>"
      ]
    },
    {
      "cell_type": "code",
      "source": [
        "!unzip -q /content/drive/MyDrive/Colab_Notebooks/Cyrillic1.zip -d /content/sample_data"
      ],
      "metadata": {
        "id": "d471l0-wcOeV"
      },
      "execution_count": null,
      "outputs": []
    },
    {
      "cell_type": "code",
      "source": [
        "!unzip -q /content/drive/MyDrive/Colab_Notebooks/test.zip -d /content/sample_data"
      ],
      "metadata": {
        "id": "87vGfkMtfIIk"
      },
      "execution_count": null,
      "outputs": []
    },
    {
      "cell_type": "code",
      "source": [
        "import os\n",
        "import numpy as np\n",
        "import tensorflow as tf\n",
        "from tensorflow.keras.models import Sequential\n",
        "from tensorflow.keras.layers import Conv2D, MaxPooling2D, Dense, Flatten, Dropout\n",
        "from tensorflow.keras import utils\n",
        "from tensorflow.keras.preprocessing import image\n",
        "from tensorflow.keras.preprocessing import image_dataset_from_directory\n",
        "import matplotlib.pyplot as plt\n",
        "from google.colab import files\n",
        "%matplotlib inline "
      ],
      "metadata": {
        "id": "u_pt95Czk4G-"
      },
      "execution_count": null,
      "outputs": []
    },
    {
      "cell_type": "code",
      "source": [
        "batch_size=256\n",
        "image_size=(278, 278)"
      ],
      "metadata": {
        "id": "JNmoZnuTk4ES"
      },
      "execution_count": null,
      "outputs": []
    },
    {
      "cell_type": "code",
      "source": [
        "train_dataset = image_dataset_from_directory('Cyrillic1',\n",
        "                                             subset='training',\n",
        "                                             seed=42,\n",
        "                                             validation_split=0.1,\n",
        "                                             batch_size=batch_size,\n",
        "                                             image_size=image_size)\n",
        "validation_dataset = image_dataset_from_directory('Cyrillic1',\n",
        "                                             subset='validation',\n",
        "                                             seed=42,\n",
        "                                             validation_split=0.1,\n",
        "                                             batch_size=batch_size,\n",
        "                                             image_size=image_size)"
      ],
      "metadata": {
        "colab": {
          "base_uri": "https://localhost:8080/"
        },
        "id": "6DCTo4q8k4Bk",
        "outputId": "de8e4ec8-3a99-4e07-c39c-d35e41db40f8"
      },
      "execution_count": null,
      "outputs": [
        {
          "output_type": "stream",
          "name": "stdout",
          "text": [
            "Found 15215 files belonging to 33 classes.\n",
            "Using 13694 files for training.\n",
            "Found 15215 files belonging to 33 classes.\n",
            "Using 1521 files for validation.\n"
          ]
        }
      ]
    },
    {
      "cell_type": "code",
      "source": [
        "class_names = train_dataset.class_names\n",
        "class_names"
      ],
      "metadata": {
        "id": "zcu9oSRIk39Q"
      },
      "execution_count": null,
      "outputs": []
    },
    {
      "cell_type": "code",
      "source": [
        "plt.figure(figsize=(8, 8))\n",
        "for images, labels in train_dataset.take(1):\n",
        "  for i in range(9):\n",
        "    ax = plt.subplot(3, 3, i + 1)\n",
        "    plt.imshow(images[i].numpy().astype(\"uint8\"))\n",
        "    plt.title(class_names[labels[i]])\n",
        "    plt.axis(\"off\")"
      ],
      "metadata": {
        "id": "prXE3PMGk31p"
      },
      "execution_count": null,
      "outputs": []
    },
    {
      "cell_type": "code",
      "source": [
        "test_dataset = image_dataset_from_directory('test',\n",
        "                                             batch_size=batch_size,\n",
        "                                             image_size=image_size)"
      ],
      "metadata": {
        "colab": {
          "base_uri": "https://localhost:8080/"
        },
        "id": "qniWDKMBfY4i",
        "outputId": "1adcb53f-a7ca-4e5f-b406-1cba4cf0f573"
      },
      "execution_count": null,
      "outputs": [
        {
          "output_type": "stream",
          "name": "stdout",
          "text": [
            "Found 66 files belonging to 33 classes.\n"
          ]
        }
      ]
    },
    {
      "cell_type": "code",
      "source": [
        "test_dataset.class_names"
      ],
      "metadata": {
        "id": "_j1ej66qfhU3"
      },
      "execution_count": null,
      "outputs": []
    },
    {
      "cell_type": "code",
      "source": [
        "AUTOTUNE = tf.data.experimental.AUTOTUNE\n",
        "\n",
        "train_dataset = train_dataset.prefetch(buffer_size=AUTOTUNE)\n",
        "validation_dataset = validation_dataset.prefetch(buffer_size=AUTOTUNE)\n",
        "test_dataset = test_dataset.prefetch(buffer_size=AUTOTUNE)"
      ],
      "metadata": {
        "id": "Zthu0RmmfjQW"
      },
      "execution_count": null,
      "outputs": []
    },
    {
      "cell_type": "code",
      "source": [
        "# Создаем последовательную модель\n",
        "model = Sequential()\n",
        "\n",
        "# Сверточный слой\n",
        "model.add(Conv2D(8, (5, 5), activation='relu', padding='same'))\n",
        "# Слой подвыборки\n",
        "model.add(MaxPooling2D(pool_size=(2, 2)))\n",
        "# Сверточный слой\n",
        "model.add(Conv2D(16, (5, 5), activation='relu', padding='same'))\n",
        "# Слой подвыборки\n",
        "model.add(MaxPooling2D(pool_size=(2, 2)))\n",
        "# Сверточный слой\n",
        "model.add(Conv2D(32, (5, 5), activation='relu', padding='same'))\n",
        "# Слой подвыборки\n",
        "model.add(MaxPooling2D(pool_size=(2, 2)))\n",
        "# Сверточный слой\n",
        "model.add(Conv2D(64, (5, 5), activation='relu', padding='same'))\n",
        "# Слой подвыборки\n",
        "model.add(MaxPooling2D(pool_size=(2, 2)))\n",
        "# Сверточный слой\n",
        "model.add(Conv2D(128, (5, 5), activation='relu', padding='same'))\n",
        "# Слой подвыборки\n",
        "model.add(MaxPooling2D(pool_size=(2, 2)))\n",
        "# Сверточный слой\n",
        "model.add(Conv2D(256, (5, 5), activation='relu', padding='same'))\n",
        "# Слой подвыборки\n",
        "model.add(MaxPooling2D(pool_size=(2, 2)))\n",
        "# Сверточный слой\n",
        "model.add(Conv2D(512, (5, 5), activation='relu', padding='same'))\n",
        "# Слой подвыборки\n",
        "model.add(MaxPooling2D(pool_size=(2, 2)))\n",
        "# Полносвязная часть нейронной сети для классификации\n",
        "model.add(Flatten())\n",
        "model.add(Dense(1024, activation='relu'))\n",
        "model.add(Dropout(0.2))\n",
        "model.add(Dense(256, activation='relu'))\n",
        "model.add(Dropout(0.2))\n",
        "# Выходной слой, 33 нейрон по количеству классов\n",
        "model.add(Dense(33, activation='softmax'))"
      ],
      "metadata": {
        "id": "Ju12wSToflLZ"
      },
      "execution_count": null,
      "outputs": []
    },
    {
      "cell_type": "code",
      "source": [
        "model.compile(loss='sparse_categorical_crossentropy',\n",
        "              optimizer=\"adam\",\n",
        "              metrics=['accuracy'])"
      ],
      "metadata": {
        "id": "jtJojUMufpGf"
      },
      "execution_count": null,
      "outputs": []
    },
    {
      "cell_type": "code",
      "source": [
        "history = model.fit(train_dataset, \n",
        "                    validation_data=validation_dataset,\n",
        "                    epochs=30,\n",
        "                    verbose=2)"
      ],
      "metadata": {
        "colab": {
          "base_uri": "https://localhost:8080/"
        },
        "id": "YKRyxguVgmWC",
        "outputId": "aaca8a17-2ecb-43bc-e130-e6a038ee92d6"
      },
      "execution_count": null,
      "outputs": [
        {
          "output_type": "stream",
          "name": "stdout",
          "text": [
            "Epoch 1/30\n",
            "54/54 - 24s - loss: 3.3195 - accuracy: 0.1499 - val_loss: 1.4203 - val_accuracy: 0.5832 - 24s/epoch - 447ms/step\n",
            "Epoch 2/30\n",
            "54/54 - 23s - loss: 0.9542 - accuracy: 0.7087 - val_loss: 0.5682 - val_accuracy: 0.8192 - 23s/epoch - 431ms/step\n",
            "Epoch 3/30\n",
            "54/54 - 23s - loss: 0.3954 - accuracy: 0.8781 - val_loss: 0.2845 - val_accuracy: 0.9165 - 23s/epoch - 433ms/step\n",
            "Epoch 4/30\n",
            "54/54 - 23s - loss: 0.2267 - accuracy: 0.9319 - val_loss: 0.2704 - val_accuracy: 0.9204 - 23s/epoch - 431ms/step\n",
            "Epoch 5/30\n",
            "54/54 - 24s - loss: 0.1491 - accuracy: 0.9539 - val_loss: 0.2478 - val_accuracy: 0.9270 - 24s/epoch - 437ms/step\n",
            "Epoch 6/30\n",
            "54/54 - 23s - loss: 0.0988 - accuracy: 0.9702 - val_loss: 0.2191 - val_accuracy: 0.9402 - 23s/epoch - 429ms/step\n",
            "Epoch 7/30\n",
            "54/54 - 23s - loss: 0.0907 - accuracy: 0.9717 - val_loss: 0.2311 - val_accuracy: 0.9343 - 23s/epoch - 432ms/step\n",
            "Epoch 8/30\n",
            "54/54 - 23s - loss: 0.0766 - accuracy: 0.9746 - val_loss: 0.2183 - val_accuracy: 0.9454 - 23s/epoch - 428ms/step\n",
            "Epoch 9/30\n",
            "54/54 - 23s - loss: 0.0650 - accuracy: 0.9798 - val_loss: 0.2138 - val_accuracy: 0.9487 - 23s/epoch - 430ms/step\n",
            "Epoch 10/30\n",
            "54/54 - 23s - loss: 0.0431 - accuracy: 0.9859 - val_loss: 0.2510 - val_accuracy: 0.9428 - 23s/epoch - 430ms/step\n",
            "Epoch 11/30\n",
            "54/54 - 24s - loss: 0.0391 - accuracy: 0.9889 - val_loss: 0.3045 - val_accuracy: 0.9369 - 24s/epoch - 437ms/step\n",
            "Epoch 12/30\n",
            "54/54 - 23s - loss: 0.0405 - accuracy: 0.9877 - val_loss: 0.2613 - val_accuracy: 0.9408 - 23s/epoch - 430ms/step\n",
            "Epoch 13/30\n",
            "54/54 - 23s - loss: 0.0507 - accuracy: 0.9859 - val_loss: 0.2234 - val_accuracy: 0.9474 - 23s/epoch - 433ms/step\n",
            "Epoch 14/30\n",
            "54/54 - 23s - loss: 0.0359 - accuracy: 0.9891 - val_loss: 0.2006 - val_accuracy: 0.9606 - 23s/epoch - 434ms/step\n",
            "Epoch 15/30\n",
            "54/54 - 23s - loss: 0.0318 - accuracy: 0.9898 - val_loss: 0.2080 - val_accuracy: 0.9461 - 23s/epoch - 424ms/step\n",
            "Epoch 16/30\n",
            "54/54 - 23s - loss: 0.0297 - accuracy: 0.9911 - val_loss: 0.3133 - val_accuracy: 0.9310 - 23s/epoch - 435ms/step\n",
            "Epoch 17/30\n",
            "54/54 - 23s - loss: 0.0276 - accuracy: 0.9919 - val_loss: 0.1839 - val_accuracy: 0.9560 - 23s/epoch - 432ms/step\n",
            "Epoch 18/30\n",
            "54/54 - 24s - loss: 0.0236 - accuracy: 0.9931 - val_loss: 0.1770 - val_accuracy: 0.9606 - 24s/epoch - 436ms/step\n",
            "Epoch 19/30\n",
            "54/54 - 23s - loss: 0.0237 - accuracy: 0.9934 - val_loss: 0.2616 - val_accuracy: 0.9467 - 23s/epoch - 431ms/step\n",
            "Epoch 20/30\n",
            "54/54 - 23s - loss: 0.0260 - accuracy: 0.9928 - val_loss: 0.2332 - val_accuracy: 0.9513 - 23s/epoch - 432ms/step\n",
            "Epoch 21/30\n",
            "54/54 - 23s - loss: 0.0158 - accuracy: 0.9955 - val_loss: 0.1950 - val_accuracy: 0.9606 - 23s/epoch - 432ms/step\n",
            "Epoch 22/30\n",
            "54/54 - 23s - loss: 0.0141 - accuracy: 0.9959 - val_loss: 0.3212 - val_accuracy: 0.9474 - 23s/epoch - 426ms/step\n",
            "Epoch 23/30\n",
            "54/54 - 23s - loss: 0.0247 - accuracy: 0.9931 - val_loss: 0.2296 - val_accuracy: 0.9553 - 23s/epoch - 434ms/step\n",
            "Epoch 24/30\n",
            "54/54 - 23s - loss: 0.0188 - accuracy: 0.9936 - val_loss: 0.2739 - val_accuracy: 0.9481 - 23s/epoch - 428ms/step\n",
            "Epoch 25/30\n",
            "54/54 - 23s - loss: 0.0223 - accuracy: 0.9936 - val_loss: 0.1846 - val_accuracy: 0.9638 - 23s/epoch - 429ms/step\n",
            "Epoch 26/30\n",
            "54/54 - 23s - loss: 0.0146 - accuracy: 0.9953 - val_loss: 0.2117 - val_accuracy: 0.9586 - 23s/epoch - 430ms/step\n",
            "Epoch 27/30\n",
            "54/54 - 23s - loss: 0.0204 - accuracy: 0.9937 - val_loss: 0.2202 - val_accuracy: 0.9566 - 23s/epoch - 427ms/step\n",
            "Epoch 28/30\n",
            "54/54 - 23s - loss: 0.0168 - accuracy: 0.9949 - val_loss: 0.2215 - val_accuracy: 0.9592 - 23s/epoch - 431ms/step\n",
            "Epoch 29/30\n",
            "54/54 - 24s - loss: 0.0314 - accuracy: 0.9913 - val_loss: 0.1886 - val_accuracy: 0.9638 - 24s/epoch - 436ms/step\n",
            "Epoch 30/30\n",
            "54/54 - 23s - loss: 0.0225 - accuracy: 0.9940 - val_loss: 0.2339 - val_accuracy: 0.9553 - 23s/epoch - 428ms/step\n"
          ]
        }
      ]
    },
    {
      "cell_type": "code",
      "source": [
        "scores = model.evaluate(test_dataset, verbose=1)"
      ],
      "metadata": {
        "colab": {
          "base_uri": "https://localhost:8080/"
        },
        "id": "IL2sdvKWhApr",
        "outputId": "d4afc5ad-0071-41e9-c825-e259852cd177"
      },
      "execution_count": null,
      "outputs": [
        {
          "output_type": "stream",
          "name": "stdout",
          "text": [
            "1/1 [==============================] - 0s 135ms/step - loss: 0.0954 - accuracy: 0.9848\n"
          ]
        }
      ]
    },
    {
      "cell_type": "code",
      "source": [
        "print(\"Доля верных ответов на тестовых данных, в процентах:\", round(scores[1] * 100, 4))"
      ],
      "metadata": {
        "colab": {
          "base_uri": "https://localhost:8080/"
        },
        "id": "7yTR7_CChBTU",
        "outputId": "6e4ef556-6e49-4b51-ca7d-20e65a9f8dea"
      },
      "execution_count": null,
      "outputs": [
        {
          "output_type": "stream",
          "name": "stdout",
          "text": [
            "Доля верных ответов на тестовых данных, в процентах: 98.4848\n"
          ]
        }
      ]
    },
    {
      "cell_type": "code",
      "source": [
        "plt.plot(history.history['accuracy'], \n",
        "         label='Доля верных ответов на обучающем наборе')\n",
        "plt.plot(history.history['val_accuracy'], \n",
        "         label='Доля верных ответов на проверочном наборе')\n",
        "plt.xlabel('Эпоха обучения')\n",
        "plt.ylabel('Доля верных ответов')\n",
        "plt.legend()\n",
        "plt.show()"
      ],
      "metadata": {
        "colab": {
          "base_uri": "https://localhost:8080/",
          "height": 279
        },
        "id": "MfQMHQxghDlr",
        "outputId": "f97b0f00-4fc2-441a-c7cf-007b72724b98"
      },
      "execution_count": null,
      "outputs": [
        {
          "output_type": "display_data",
          "data": {
            "text/plain": [
              "<Figure size 432x288 with 1 Axes>"
            ],
            "image/png": "[encoded data removed]"
          },
          "metadata": {
            "needs_background": "light"
          }
        }
      ]
    },
    {
      "cell_type": "code",
      "source": [
        "plt.plot(history.history['loss'], \n",
        "         label='Ошибка на обучающем наборе')\n",
        "plt.plot(history.history['val_loss'], \n",
        "         label='Ошибка на проверочном наборе')\n",
        "plt.xlabel('Эпоха обучения')\n",
        "plt.ylabel('Ошибка')\n",
        "plt.legend()\n",
        "plt.show()"
      ],
      "metadata": {
        "colab": {
          "base_uri": "https://localhost:8080/",
          "height": 279
        },
        "id": "ZGiGpRgkhFV1",
        "outputId": "697dc05d-fa78-4faa-d567-36aeb469be68"
      },
      "execution_count": null,
      "outputs": [
        {
          "output_type": "display_data",
          "data": {
            "text/plain": [
              "<Figure size 432x288 with 1 Axes>"
            ],
            "image/png": "[encoded data removed]"
          },
          "metadata": {
            "needs_background": "light"
          }
        }
      ]
    }
  ]
}
